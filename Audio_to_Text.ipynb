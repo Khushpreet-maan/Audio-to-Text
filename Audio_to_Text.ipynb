{
  "nbformat": 4,
  "nbformat_minor": 0,
  "metadata": {
    "colab": {
      "provenance": [],
      "authorship_tag": "ABX9TyNh+igQ6X4TlIZMJt+Vldt1",
      "include_colab_link": true
    },
    "kernelspec": {
      "name": "python3",
      "display_name": "Python 3"
    },
    "language_info": {
      "name": "python"
    }
  },
  "cells": [
    {
      "cell_type": "markdown",
      "metadata": {
        "id": "view-in-github",
        "colab_type": "text"
      },
      "source": [
        "<a href=\"https://colab.research.google.com/github/Khushpreet-maan/Audio-to-Text/blob/main/Audio_to_Text.ipynb\" target=\"_parent\"><img src=\"https://colab.research.google.com/assets/colab-badge.svg\" alt=\"Open In Colab\"/></a>"
      ]
    },
    {
      "cell_type": "code",
      "source": [
        "!pip install SpeechRecognition --quiet"
      ],
      "metadata": {
        "id": "Glf8iSLoLgd1"
      },
      "execution_count": 28,
      "outputs": []
    },
    {
      "cell_type": "code",
      "source": [
        "import speech_recognition as sr\n",
        "#Initiаlize  reсоgnizer  сlаss  (fоr  reсоgnizing  the  sрeeсh)\n",
        "r = sr.Recognizer()\n",
        "# Reading Audio file as source\n",
        "#  listening  the  аudiо  file  аnd  stоre  in  аudiо_text  vаriаble\n",
        "with sr.AudioFile('harvard.wav') as source:\n",
        "    audio_text = r.listen(source,phrase_time_limit=30)\n",
        "    try:\n",
        "        text = r.recognize_google(audio_text)\n",
        "        print('Converting audio transcripts into text ...')\n",
        "        print(text)\n",
        "    except sr.UnknownValueError:\n",
        "         print('Sorry, could not understand audio')\n",
        "    except sr.RequestError as e:\n",
        "         print(f'Could not request results from Google Speech Recognition service; {e}')\n",
        "    except Exception as e:\n",
        "         print(f'An unexpected error occurred: {e}')"
      ],
      "metadata": {
        "colab": {
          "base_uri": "https://localhost:8080/"
        },
        "id": "x52jnWvCLg1v",
        "outputId": "935e24af-3d26-4772-cbe8-7b6deb252492"
      },
      "execution_count": 29,
      "outputs": [
        {
          "output_type": "stream",
          "name": "stdout",
          "text": [
            "Converting audio transcripts into text ...\n",
            "the stale smell of old beer Ling\n"
          ]
        }
      ]
    }
  ]
}